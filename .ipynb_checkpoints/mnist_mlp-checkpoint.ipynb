{
 "cells": [
  {
   "cell_type": "code",
   "execution_count": 1,
   "metadata": {
    "id": "qYBHzG5fTYS_"
   },
   "outputs": [],
   "source": [
    "from keras.datasets import mnist"
   ]
  },
  {
   "cell_type": "code",
   "execution_count": 2,
   "metadata": {
    "colab": {
     "base_uri": "https://localhost:8080/"
    },
    "id": "1hR1z5b7UISo",
    "outputId": "567f0828-6501-4054-ae5c-a4f3603e752b"
   },
   "outputs": [
    {
     "name": "stdout",
     "output_type": "stream",
     "text": [
      "Downloading data from https://storage.googleapis.com/tensorflow/tf-keras-datasets/mnist.npz\n",
      "11493376/11490434 [==============================] - 0s 0us/step\n"
     ]
    }
   ],
   "source": [
    "(train_feature, train_label), (test_feature, test_label) = mnist.load_data()"
   ]
  },
  {
   "cell_type": "code",
   "execution_count": 3,
   "metadata": {
    "colab": {
     "base_uri": "https://localhost:8080/"
    },
    "id": "p3WttuQDUT0R",
    "outputId": "262b34c4-2098-4923-8c51-296a8c0cec67"
   },
   "outputs": [
    {
     "name": "stdout",
     "output_type": "stream",
     "text": [
      "60000\n"
     ]
    }
   ],
   "source": [
    "print(len(train_feature))"
   ]
  },
  {
   "cell_type": "code",
   "execution_count": 4,
   "metadata": {
    "colab": {
     "base_uri": "https://localhost:8080/"
    },
    "id": "iM8629HVUj9G",
    "outputId": "5b32d581-20c3-416b-d23e-e0c448b46e35"
   },
   "outputs": [
    {
     "name": "stdout",
     "output_type": "stream",
     "text": [
      "(60000, 28, 28) (60000,)\n"
     ]
    }
   ],
   "source": [
    "print(train_feature.shape, train_label.shape)"
   ]
  },
  {
   "cell_type": "code",
   "execution_count": 5,
   "metadata": {
    "id": "CsUDCofhUrNe"
   },
   "outputs": [],
   "source": [
    "import matplotlib.pyplot as plt\n",
    "%matplotlib inline"
   ]
  },
  {
   "cell_type": "code",
   "execution_count": 6,
   "metadata": {
    "id": "K6B67P-FU88m"
   },
   "outputs": [],
   "source": [
    "def show_image(image):\n",
    "  fig = plt.gcf()\n",
    "  fig.set_size_inches(2,　2)\n",
    "  plt.imshow(image, cmap='binary')\n",
    "  plt.show()"
   ]
  },
  {
   "cell_type": "code",
   "execution_count": 8,
   "metadata": {
    "colab": {
     "base_uri": "https://localhost:8080/",
     "height": 176
    },
    "id": "OUelOq-KVLfW",
    "outputId": "a2ed90df-b027-4fc4-f043-2006cc8a6a4a"
   },
   "outputs": [
    {
     "data": {
      "image/png": "[encoded data removed]",
      "text/plain": [
       "<Figure size 144x144 with 1 Axes>"
      ]
     },
     "metadata": {
      "needs_background": "light",
      "tags": []
     },
     "output_type": "display_data"
    },
    {
     "name": "stdout",
     "output_type": "stream",
     "text": [
      "3\n"
     ]
    }
   ],
   "source": [
    "show_image(train_feature[10])\n",
    "print(train_label[10])"
   ]
  },
  {
   "cell_type": "code",
   "execution_count": 52,
   "metadata": {
    "id": "S8LdRSeIVRh-"
   },
   "outputs": [],
   "source": [
    "def show_images_labels_predictions(images, labels, predictions, start_id, num=10):\n",
    "  plt.gcf().set_size_inches(12, 14)\n",
    "  if num > 25: num = 25\n",
    "  for i in range(0, num):\n",
    "    ax = plt.subplot(5, 5, i+1)\n",
    "    ax.imshow(images[start_id], cmap='binary')\n",
    "      \n",
    "    if len(predictions) > 0:\n",
    "        title = 'ai = ' + str(predictions[start_id])\n",
    "        title += (' (o)' if predictions[start_id] == labels[start_id] else ' (x)')\n",
    "        title += '\\nlabel = ' + str(labels[start_id])\n",
    "    else:\n",
    "        title = 'label = ' + str(labels[start_id])\n",
    "          \n",
    "    ax.set_title(title, fontsize = 12)\n",
    "    ax.set_xticks([])\n",
    "    ax.set_yticks([])\n",
    "    start_id += 1\n",
    "  plt.show()"
   ]
  },
  {
   "cell_type": "code",
   "execution_count": 19,
   "metadata": {
    "colab": {
     "base_uri": "https://localhost:8080/",
     "height": 330
    },
    "id": "gtbnaMnoX7Ue",
    "outputId": "0b0eab1b-1c90-4a73-f277-06c45a9ebfc4"
   },
   "outputs": [
    {
     "data": {
      "image/png": "[encoded data removed]",
      "text/plain": [
       "<Figure size 864x1008 with 3 Axes>"
      ]
     },
     "metadata": {
      "tags": []
     },
     "output_type": "display_data"
    },
    {
     "data": {
      "image/png": "[encoded data removed]",
      "text/plain": [
       "<Figure size 864x1008 with 3 Axes>"
      ]
     },
     "metadata": {
      "tags": []
     },
     "output_type": "display_data"
    }
   ],
   "source": [
    "show_images_labels_predictions(train_feature, train_label, [], 0, 3)\n",
    "show_images_labels_predictions(train_feature, train_label, [5,0,4], 0, 3)"
   ]
  },
  {
   "cell_type": "code",
   "execution_count": 20,
   "metadata": {
    "colab": {
     "base_uri": "https://localhost:8080/"
    },
    "id": "8hNESBRYYBME",
    "outputId": "2ef25392-4f6e-4ab0-bb2c-fe7280f1b352"
   },
   "outputs": [
    {
     "name": "stdout",
     "output_type": "stream",
     "text": [
      "(60000, 784)\n"
     ]
    }
   ],
   "source": [
    "train_feature_vector = train_feature.reshape(len(train_feature),784).astype('float32')\n",
    "test_feature_vector = test_feature.reshape(len(test_feature),784).astype('float32')\n",
    "print(train_feature_vector.shape)"
   ]
  },
  {
   "cell_type": "code",
   "execution_count": 22,
   "metadata": {
    "id": "jl2W9MTZbcg7"
   },
   "outputs": [],
   "source": [
    "train_feature_normalize = train_feature_vector/255\n",
    "test_feature_normalize = test_feature_vector/255"
   ]
  },
  {
   "cell_type": "code",
   "execution_count": 24,
   "metadata": {
    "colab": {
     "base_uri": "https://localhost:8080/"
    },
    "id": "rM1ecZFrcNBS",
    "outputId": "7d6b84df-8aa3-4d43-d5f1-1edf6b4b6d19"
   },
   "outputs": [
    {
     "name": "stdout",
     "output_type": "stream",
     "text": [
      "5\n",
      "[0. 0. 0. 0. 0. 1. 0. 0. 0. 0.]\n"
     ]
    }
   ],
   "source": [
    "from keras.utils import np_utils\n",
    "train_label_onehot = np_utils.to_categorical(train_label)\n",
    "test_label_onehot = np_utils.to_categorical(test_label)\n",
    "print(train_label[0])\n",
    "print(train_label_onehot[0])"
   ]
  },
  {
   "cell_type": "code",
   "execution_count": 25,
   "metadata": {
    "id": "7rxC9PuVdTAh"
   },
   "outputs": [],
   "source": [
    "from keras.models import Sequential\n",
    "from keras.layers import Dense"
   ]
  },
  {
   "cell_type": "code",
   "execution_count": 27,
   "metadata": {
    "colab": {
     "base_uri": "https://localhost:8080/"
    },
    "id": "cdhfZxkweOWp",
    "outputId": "be588104-c623-4923-9b50-bd813f3690c2"
   },
   "outputs": [
    {
     "name": "stdout",
     "output_type": "stream",
     "text": [
      "Model: \"sequential_1\"\n",
      "_________________________________________________________________\n",
      "Layer (type)                 Output Shape              Param #   \n",
      "=================================================================\n",
      "dense_2 (Dense)              (None, 256)               200960    \n",
      "_________________________________________________________________\n",
      "dense_3 (Dense)              (None, 10)                2570      \n",
      "=================================================================\n",
      "Total params: 203,530\n",
      "Trainable params: 203,530\n",
      "Non-trainable params: 0\n",
      "_________________________________________________________________\n",
      "None\n"
     ]
    }
   ],
   "source": [
    "model = Sequential()\n",
    "model.add(Dense(units=256, input_dim=784, kernel_initializer='normal', activation='relu'))\n",
    "model.add(Dense(units=10, kernel_initializer='normal', activation='softmax'))\n",
    "print(model.summary())\n",
    "\n",
    "model.compile(loss='mean_squared_error', optimizer='adam', metrics=['accuracy'])"
   ]
  },
  {
   "cell_type": "code",
   "execution_count": 29,
   "metadata": {
    "colab": {
     "base_uri": "https://localhost:8080/"
    },
    "id": "lThnPILGew9B",
    "outputId": "ee14d828-34f2-482a-b4dc-e35588589893"
   },
   "outputs": [
    {
     "name": "stdout",
     "output_type": "stream",
     "text": [
      "Epoch 1/10\n",
      "240/240 [==============================] - 2s 7ms/step - loss: 0.0015 - accuracy: 0.9921 - val_loss: 0.0038 - val_accuracy: 0.9747\n",
      "Epoch 2/10\n",
      "240/240 [==============================] - 2s 7ms/step - loss: 0.0013 - accuracy: 0.9934 - val_loss: 0.0036 - val_accuracy: 0.9761\n",
      "Epoch 3/10\n",
      "240/240 [==============================] - 2s 7ms/step - loss: 0.0011 - accuracy: 0.9948 - val_loss: 0.0035 - val_accuracy: 0.9770\n",
      "Epoch 4/10\n",
      "240/240 [==============================] - 2s 7ms/step - loss: 0.0010 - accuracy: 0.9951 - val_loss: 0.0036 - val_accuracy: 0.9769\n",
      "Epoch 5/10\n",
      "240/240 [==============================] - 2s 7ms/step - loss: 8.3835e-04 - accuracy: 0.9960 - val_loss: 0.0034 - val_accuracy: 0.9787\n",
      "Epoch 6/10\n",
      "240/240 [==============================] - 2s 7ms/step - loss: 7.5544e-04 - accuracy: 0.9965 - val_loss: 0.0035 - val_accuracy: 0.9765\n",
      "Epoch 7/10\n",
      "240/240 [==============================] - 2s 7ms/step - loss: 7.0109e-04 - accuracy: 0.9968 - val_loss: 0.0035 - val_accuracy: 0.9768\n",
      "Epoch 8/10\n",
      "240/240 [==============================] - 2s 7ms/step - loss: 6.8226e-04 - accuracy: 0.9969 - val_loss: 0.0034 - val_accuracy: 0.9787\n",
      "Epoch 9/10\n",
      "240/240 [==============================] - 2s 7ms/step - loss: 5.6072e-04 - accuracy: 0.9974 - val_loss: 0.0037 - val_accuracy: 0.9759\n",
      "Epoch 10/10\n",
      "240/240 [==============================] - 2s 7ms/step - loss: 5.6622e-04 - accuracy: 0.9973 - val_loss: 0.0037 - val_accuracy: 0.9769\n"
     ]
    }
   ],
   "source": [
    "train_history = model.fit(\n",
    "    x=train_feature_normalize,\n",
    "    y=train_label_onehot,\n",
    "    validation_split=0.2,\n",
    "    epochs=10,\n",
    "    batch_size=200,\n",
    "    verbose=1\n",
    ")"
   ]
  },
  {
   "cell_type": "code",
   "execution_count": 31,
   "metadata": {
    "colab": {
     "base_uri": "https://localhost:8080/"
    },
    "id": "e_EiFdCwf_2B",
    "outputId": "3496f4cf-be83-4aba-f9b6-a93a2f7d169f"
   },
   "outputs": [
    {
     "name": "stdout",
     "output_type": "stream",
     "text": [
      "313/313 [==============================] - 0s 2ms/step - loss: 0.0032 - accuracy: 0.9795\n",
      "準確率 = 0.9794999957084656\n"
     ]
    }
   ],
   "source": [
    "scores = model.evaluate(test_feature_normalize, test_label_onehot)\n",
    "print(f'準確率 = {scores[1]}')"
   ]
  },
  {
   "cell_type": "code",
   "execution_count": 57,
   "metadata": {
    "id": "68C07mr4guGg"
   },
   "outputs": [],
   "source": [
    "prediction = model.predict_classes(test_feature_normalize)"
   ]
  },
  {
   "cell_type": "code",
   "execution_count": 65,
   "metadata": {
    "colab": {
     "base_uri": "https://localhost:8080/",
     "height": 811
    },
    "id": "9Y9euj_1g-v5",
    "outputId": "024cb37f-1970-4801-ef45-c29cda6aa8c1"
   },
   "outputs": [
    {
     "data": {
      "image/png": "[encoded data removed]",
      "text/plain": [
       "<Figure size 864x1008 with 25 Axes>"
      ]
     },
     "metadata": {
      "tags": []
     },
     "output_type": "display_data"
    }
   ],
   "source": [
    "show_images_labels_predictions(test_feature, test_label, prediction, 125, 25)"
   ]
  },
  {
   "cell_type": "code",
   "execution_count": 66,
   "metadata": {
    "colab": {
     "base_uri": "https://localhost:8080/"
    },
    "id": "bYVvyz8khQBY",
    "outputId": "1905a2ab-10ad-4449-88d3-76fe52918d0a"
   },
   "outputs": [
    {
     "name": "stdout",
     "output_type": "stream",
     "text": [
      "\t[Info] Display Confusion Matrix:\n",
      "predict    0     1     2    3    4    5    6     7    8    9\n",
      "label                                                       \n",
      "0        966     0     0    2    1    3    3     1    4    0\n",
      "1          0  1122     3    2    0    1    3     1    3    0\n",
      "2          2     1  1000    7    4    0    5     4    9    0\n",
      "3          0     0     1  994    1    3    0     3    4    4\n",
      "4          1     0     1    0  962    0    6     2    2    8\n",
      "5          1     0     0    9    0  865    6     1    5    5\n",
      "6          4     2     0    1    1    3  946     0    1    0\n",
      "7          0     1     6    5    0    1    0  1004    5    6\n",
      "8          1     0     1    9    4    3    1     3  949    3\n",
      "9          3     2     0    3    5    4    0     4    1  987\n",
      "\n"
     ]
    }
   ],
   "source": [
    "import pandas as pd\n",
    "print('\\t[Info] Display Confusion Matrix:')\n",
    "print(\"%s\\n\" % pd.crosstab(test_label, prediction, rownames=['label'], colnames=['predict']))"
   ]
  },
  {
   "cell_type": "code",
   "execution_count": null,
   "metadata": {
    "id": "iwjVygu_j8qn"
   },
   "outputs": [],
   "source": []
  }
 ],
 "metadata": {
  "colab": {
   "collapsed_sections": [],
   "name": "mnist_mlp.ipynb",
   "provenance": []
  },
  "kernelspec": {
   "display_name": "Python 3",
   "language": "python",
   "name": "python3"
  },
  "language_info": {
   "codemirror_mode": {
    "name": "ipython",
    "version": 3
   },
   "file_extension": ".py",
   "mimetype": "text/x-python",
   "name": "python",
   "nbconvert_exporter": "python",
   "pygments_lexer": "ipython3",
   "version": "3.8.3"
  }
 },
 "nbformat": 4,
 "nbformat_minor": 1
}
