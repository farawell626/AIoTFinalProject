{
 "cells": [
  {
   "cell_type": "code",
   "execution_count": 1,
   "metadata": {
    "executionInfo": {
     "elapsed": 2855,
     "status": "ok",
     "timestamp": 1607512964966,
     "user": {
      "displayName": "陳煒凱",
      "photoUrl": "",
      "userId": "11007344159734371644"
     },
     "user_tz": -480
    },
    "id": "qYBHzG5fTYS_"
   },
   "outputs": [],
   "source": [
    "from keras.datasets import mnist"
   ]
  },
  {
   "cell_type": "code",
   "execution_count": 2,
   "metadata": {
    "colab": {
     "base_uri": "https://localhost:8080/"
    },
    "executionInfo": {
     "elapsed": 4065,
     "status": "ok",
     "timestamp": 1607512966196,
     "user": {
      "displayName": "陳煒凱",
      "photoUrl": "",
      "userId": "11007344159734371644"
     },
     "user_tz": -480
    },
    "id": "1hR1z5b7UISo",
    "outputId": "17a85d8e-a593-47b6-b478-617548939ecc"
   },
   "outputs": [],
   "source": [
    "(train_feature, train_label), (test_feature, test_label) = mnist.load_data()"
   ]
  },
  {
   "cell_type": "code",
   "execution_count": 3,
   "metadata": {
    "colab": {
     "base_uri": "https://localhost:8080/"
    },
    "executionInfo": {
     "elapsed": 4058,
     "status": "ok",
     "timestamp": 1607512966198,
     "user": {
      "displayName": "陳煒凱",
      "photoUrl": "",
      "userId": "11007344159734371644"
     },
     "user_tz": -480
    },
    "id": "p3WttuQDUT0R",
    "outputId": "e1686fd0-a832-48f1-bab6-48ceb442afb2"
   },
   "outputs": [
    {
     "name": "stdout",
     "output_type": "stream",
     "text": [
      "60000\n"
     ]
    }
   ],
   "source": [
    "print(len(train_feature))"
   ]
  },
  {
   "cell_type": "code",
   "execution_count": 4,
   "metadata": {
    "colab": {
     "base_uri": "https://localhost:8080/"
    },
    "executionInfo": {
     "elapsed": 4052,
     "status": "ok",
     "timestamp": 1607512966199,
     "user": {
      "displayName": "陳煒凱",
      "photoUrl": "",
      "userId": "11007344159734371644"
     },
     "user_tz": -480
    },
    "id": "iM8629HVUj9G",
    "outputId": "08b4888a-50de-469c-a111-23a533a6ae6f"
   },
   "outputs": [
    {
     "name": "stdout",
     "output_type": "stream",
     "text": [
      "(60000, 28, 28) (60000,)\n"
     ]
    }
   ],
   "source": [
    "print(train_feature.shape, train_label.shape)"
   ]
  },
  {
   "cell_type": "code",
   "execution_count": 5,
   "metadata": {
    "executionInfo": {
     "elapsed": 4050,
     "status": "ok",
     "timestamp": 1607512966199,
     "user": {
      "displayName": "陳煒凱",
      "photoUrl": "",
      "userId": "11007344159734371644"
     },
     "user_tz": -480
    },
    "id": "CsUDCofhUrNe"
   },
   "outputs": [],
   "source": [
    "import matplotlib.pyplot as plt\n",
    "%matplotlib inline"
   ]
  },
  {
   "cell_type": "code",
   "execution_count": 6,
   "metadata": {
    "executionInfo": {
     "elapsed": 1064,
     "status": "ok",
     "timestamp": 1607512997929,
     "user": {
      "displayName": "陳煒凱",
      "photoUrl": "",
      "userId": "11007344159734371644"
     },
     "user_tz": -480
    },
    "id": "K6B67P-FU88m"
   },
   "outputs": [],
   "source": [
    "def show_image(image):\n",
    "  fig = plt.gcf()\n",
    "  fig.set_size_inches(2, 2)\n",
    "  plt.imshow(image, cmap='binary')\n",
    "  plt.show()"
   ]
  },
  {
   "cell_type": "code",
   "execution_count": 7,
   "metadata": {
    "colab": {
     "base_uri": "https://localhost:8080/",
     "height": 176
    },
    "executionInfo": {
     "elapsed": 821,
     "status": "ok",
     "timestamp": 1607512999765,
     "user": {
      "displayName": "陳煒凱",
      "photoUrl": "",
      "userId": "11007344159734371644"
     },
     "user_tz": -480
    },
    "id": "OUelOq-KVLfW",
    "outputId": "180331a9-c6bb-4d12-d143-c9440a5d1e3f"
   },
   "outputs": [
    {
     "data": {
      "image/png": "[encoded data removed]",
      "text/plain": [
       "<Figure size 144x144 with 1 Axes>"
      ]
     },
     "metadata": {
      "needs_background": "light"
     },
     "output_type": "display_data"
    },
    {
     "name": "stdout",
     "output_type": "stream",
     "text": [
      "3\n"
     ]
    }
   ],
   "source": [
    "show_image(train_feature[10])\n",
    "print(train_label[10])"
   ]
  },
  {
   "cell_type": "code",
   "execution_count": 8,
   "metadata": {
    "executionInfo": {
     "elapsed": 1020,
     "status": "ok",
     "timestamp": 1607513000179,
     "user": {
      "displayName": "陳煒凱",
      "photoUrl": "",
      "userId": "11007344159734371644"
     },
     "user_tz": -480
    },
    "id": "S8LdRSeIVRh-"
   },
   "outputs": [],
   "source": [
    "def show_images_labels_predictions(images, labels, predictions, start_id, num=10):\n",
    "  plt.gcf().set_size_inches(12, 14)\n",
    "  if num > 25: num = 25\n",
    "  for i in range(0, num):\n",
    "    ax = plt.subplot(5, 5, i+1)\n",
    "    ax.imshow(images[start_id], cmap='binary')\n",
    "      \n",
    "    if len(predictions) > 0:\n",
    "        title = 'ai = ' + str(predictions[start_id])\n",
    "        title += (' (o)' if predictions[start_id] == labels[start_id] else ' (x)')\n",
    "        title += '\\nlabel = ' + str(labels[start_id])\n",
    "    else:\n",
    "        title = 'label = ' + str(labels[start_id])\n",
    "          \n",
    "    ax.set_title(title, fontsize = 12)\n",
    "    ax.set_xticks([])\n",
    "    ax.set_yticks([])\n",
    "    start_id += 1\n",
    "  plt.show()"
   ]
  },
  {
   "cell_type": "code",
   "execution_count": 9,
   "metadata": {
    "colab": {
     "base_uri": "https://localhost:8080/",
     "height": 330
    },
    "executionInfo": {
     "elapsed": 1325,
     "status": "ok",
     "timestamp": 1607513000784,
     "user": {
      "displayName": "陳煒凱",
      "photoUrl": "",
      "userId": "11007344159734371644"
     },
     "user_tz": -480
    },
    "id": "gtbnaMnoX7Ue",
    "outputId": "95f4f581-481b-4935-80b7-d05da6ed4852"
   },
   "outputs": [
    {
     "data": {
      "image/png": "[encoded data removed]",
      "text/plain": [
       "<Figure size 864x1008 with 3 Axes>"
      ]
     },
     "metadata": {},
     "output_type": "display_data"
    },
    {
     "data": {
      "image/png": "[encoded data removed]",
      "text/plain": [
       "<Figure size 864x1008 with 3 Axes>"
      ]
     },
     "metadata": {},
     "output_type": "display_data"
    }
   ],
   "source": [
    "show_images_labels_predictions(train_feature, train_label, [], 0, 3)\n",
    "show_images_labels_predictions(train_feature, train_label, [5,0,4], 0, 3)"
   ]
  },
  {
   "cell_type": "code",
   "execution_count": 10,
   "metadata": {
    "colab": {
     "base_uri": "https://localhost:8080/"
    },
    "executionInfo": {
     "elapsed": 1574,
     "status": "ok",
     "timestamp": 1607513001269,
     "user": {
      "displayName": "陳煒凱",
      "photoUrl": "",
      "userId": "11007344159734371644"
     },
     "user_tz": -480
    },
    "id": "8hNESBRYYBME",
    "outputId": "53467efd-2061-46b1-ee8e-d47c5a4e2542"
   },
   "outputs": [
    {
     "name": "stdout",
     "output_type": "stream",
     "text": [
      "(60000, 784)\n"
     ]
    }
   ],
   "source": [
    "train_feature_vector = train_feature.reshape(len(train_feature),784).astype('float32')\n",
    "test_feature_vector = test_feature.reshape(len(test_feature),784).astype('float32')\n",
    "print(train_feature_vector.shape)"
   ]
  },
  {
   "cell_type": "code",
   "execution_count": 11,
   "metadata": {
    "executionInfo": {
     "elapsed": 1319,
     "status": "ok",
     "timestamp": 1607513001271,
     "user": {
      "displayName": "陳煒凱",
      "photoUrl": "",
      "userId": "11007344159734371644"
     },
     "user_tz": -480
    },
    "id": "jl2W9MTZbcg7"
   },
   "outputs": [],
   "source": [
    "train_feature_normalize = train_feature_vector/255\n",
    "test_feature_normalize = test_feature_vector/255"
   ]
  },
  {
   "cell_type": "code",
   "execution_count": 12,
   "metadata": {
    "colab": {
     "base_uri": "https://localhost:8080/"
    },
    "executionInfo": {
     "elapsed": 1215,
     "status": "ok",
     "timestamp": 1607513001620,
     "user": {
      "displayName": "陳煒凱",
      "photoUrl": "",
      "userId": "11007344159734371644"
     },
     "user_tz": -480
    },
    "id": "rM1ecZFrcNBS",
    "outputId": "acaf9257-3f0c-4f93-b388-9409e90a8694"
   },
   "outputs": [
    {
     "name": "stdout",
     "output_type": "stream",
     "text": [
      "5\n",
      "[0. 0. 0. 0. 0. 1. 0. 0. 0. 0.]\n"
     ]
    }
   ],
   "source": [
    "from keras.utils import np_utils\n",
    "train_label_onehot = np_utils.to_categorical(train_label)\n",
    "test_label_onehot = np_utils.to_categorical(test_label)\n",
    "print(train_label[0])\n",
    "print(train_label_onehot[0])"
   ]
  },
  {
   "cell_type": "code",
   "execution_count": 13,
   "metadata": {
    "executionInfo": {
     "elapsed": 958,
     "status": "ok",
     "timestamp": 1607513002359,
     "user": {
      "displayName": "陳煒凱",
      "photoUrl": "",
      "userId": "11007344159734371644"
     },
     "user_tz": -480
    },
    "id": "7rxC9PuVdTAh"
   },
   "outputs": [],
   "source": [
    "from keras.models import Sequential\n",
    "from keras.layers import Dense"
   ]
  },
  {
   "cell_type": "code",
   "execution_count": 14,
   "metadata": {
    "colab": {
     "base_uri": "https://localhost:8080/"
    },
    "executionInfo": {
     "elapsed": 1003,
     "status": "ok",
     "timestamp": 1607513003356,
     "user": {
      "displayName": "陳煒凱",
      "photoUrl": "",
      "userId": "11007344159734371644"
     },
     "user_tz": -480
    },
    "id": "cdhfZxkweOWp",
    "outputId": "10046425-7347-4f07-c754-1460a71505cf"
   },
   "outputs": [
    {
     "name": "stdout",
     "output_type": "stream",
     "text": [
      "Model: \"sequential\"\n",
      "_________________________________________________________________\n",
      "Layer (type)                 Output Shape              Param #   \n",
      "=================================================================\n",
      "dense (Dense)                (None, 256)               200960    \n",
      "_________________________________________________________________\n",
      "dense_1 (Dense)              (None, 10)                2570      \n",
      "=================================================================\n",
      "Total params: 203,530\n",
      "Trainable params: 203,530\n",
      "Non-trainable params: 0\n",
      "_________________________________________________________________\n",
      "None\n"
     ]
    }
   ],
   "source": [
    "model = Sequential()\n",
    "model.add(Dense(units=256, input_dim=784, kernel_initializer='normal', activation='relu'))\n",
    "model.add(Dense(units=10, kernel_initializer='normal', activation='softmax'))\n",
    "print(model.summary())\n",
    "\n",
    "model.compile(loss='mean_squared_error', optimizer='adam', metrics=['accuracy'])"
   ]
  },
  {
   "cell_type": "code",
   "execution_count": 15,
   "metadata": {
    "colab": {
     "base_uri": "https://localhost:8080/"
    },
    "executionInfo": {
     "elapsed": 27252,
     "status": "ok",
     "timestamp": 1607513030120,
     "user": {
      "displayName": "陳煒凱",
      "photoUrl": "",
      "userId": "11007344159734371644"
     },
     "user_tz": -480
    },
    "id": "lThnPILGew9B",
    "outputId": "00816960-3ba3-4320-ad96-0e47afbb978c"
   },
   "outputs": [
    {
     "name": "stdout",
     "output_type": "stream",
     "text": [
      "Epoch 1/10\n",
      "240/240 [==============================] - 1s 3ms/step - loss: 0.0194 - accuracy: 0.8766 - val_loss: 0.0102 - val_accuracy: 0.9340\n",
      "Epoch 2/10\n",
      "240/240 [==============================] - 1s 3ms/step - loss: 0.0090 - accuracy: 0.9440 - val_loss: 0.0074 - val_accuracy: 0.9542\n",
      "Epoch 3/10\n",
      "240/240 [==============================] - 1s 3ms/step - loss: 0.0067 - accuracy: 0.9586 - val_loss: 0.0063 - val_accuracy: 0.9610\n",
      "Epoch 4/10\n",
      "240/240 [==============================] - 1s 3ms/step - loss: 0.0052 - accuracy: 0.9689 - val_loss: 0.0054 - val_accuracy: 0.9658\n",
      "Epoch 5/10\n",
      "240/240 [==============================] - 1s 3ms/step - loss: 0.0042 - accuracy: 0.9748 - val_loss: 0.0049 - val_accuracy: 0.9697\n",
      "Epoch 6/10\n",
      "240/240 [==============================] - 1s 3ms/step - loss: 0.0035 - accuracy: 0.9801 - val_loss: 0.0044 - val_accuracy: 0.9718\n",
      "Epoch 7/10\n",
      "240/240 [==============================] - 1s 2ms/step - loss: 0.0029 - accuracy: 0.9835 - val_loss: 0.0043 - val_accuracy: 0.9713\n",
      "Epoch 8/10\n",
      "240/240 [==============================] - 1s 2ms/step - loss: 0.0025 - accuracy: 0.9862 - val_loss: 0.0041 - val_accuracy: 0.9739\n",
      "Epoch 9/10\n",
      "240/240 [==============================] - 1s 2ms/step - loss: 0.0022 - accuracy: 0.9877 - val_loss: 0.0040 - val_accuracy: 0.9746\n",
      "Epoch 10/10\n",
      "240/240 [==============================] - 1s 2ms/step - loss: 0.0018 - accuracy: 0.9904 - val_loss: 0.0037 - val_accuracy: 0.9761\n"
     ]
    }
   ],
   "source": [
    "train_history = model.fit(\n",
    "    x=train_feature_normalize,\n",
    "    y=train_label_onehot,\n",
    "    validation_split=0.2,\n",
    "    epochs=10,\n",
    "    batch_size=200,\n",
    "    verbose=1\n",
    ")"
   ]
  },
  {
   "cell_type": "code",
   "execution_count": 16,
   "metadata": {
    "colab": {
     "base_uri": "https://localhost:8080/"
    },
    "executionInfo": {
     "elapsed": 26919,
     "status": "ok",
     "timestamp": 1607513030121,
     "user": {
      "displayName": "陳煒凱",
      "photoUrl": "",
      "userId": "11007344159734371644"
     },
     "user_tz": -480
    },
    "id": "e_EiFdCwf_2B",
    "outputId": "2012e0e5-b923-4b07-beb7-528ad0912ea5"
   },
   "outputs": [
    {
     "name": "stdout",
     "output_type": "stream",
     "text": [
      "313/313 [==============================] - 0s 848us/step - loss: 0.0035 - accuracy: 0.9776\n",
      "準確率 = 0.9775999784469604\n"
     ]
    }
   ],
   "source": [
    "scores = model.evaluate(test_feature_normalize, test_label_onehot)\n",
    "print(f'準確率 = {scores[1]}')"
   ]
  },
  {
   "cell_type": "code",
   "execution_count": 17,
   "metadata": {
    "colab": {
     "base_uri": "https://localhost:8080/"
    },
    "executionInfo": {
     "elapsed": 26610,
     "status": "ok",
     "timestamp": 1607513030122,
     "user": {
      "displayName": "陳煒凱",
      "photoUrl": "",
      "userId": "11007344159734371644"
     },
     "user_tz": -480
    },
    "id": "68C07mr4guGg",
    "outputId": "09ead1ba-a656-4002-ccb0-469c95313e85"
   },
   "outputs": [
    {
     "name": "stdout",
     "output_type": "stream",
     "text": [
      "WARNING:tensorflow:From <ipython-input-17-613a0c130e1a>:1: Sequential.predict_classes (from tensorflow.python.keras.engine.sequential) is deprecated and will be removed after 2021-01-01.\n",
      "Instructions for updating:\n",
      "Please use instead:* `np.argmax(model.predict(x), axis=-1)`,   if your model does multi-class classification   (e.g. if it uses a `softmax` last-layer activation).* `(model.predict(x) > 0.5).astype(\"int32\")`,   if your model does binary classification   (e.g. if it uses a `sigmoid` last-layer activation).\n"
     ]
    }
   ],
   "source": [
    "prediction = model.predict_classes(test_feature_normalize)"
   ]
  },
  {
   "cell_type": "code",
   "execution_count": 18,
   "metadata": {
    "colab": {
     "base_uri": "https://localhost:8080/",
     "height": 811
    },
    "executionInfo": {
     "elapsed": 21923,
     "status": "ok",
     "timestamp": 1607513030122,
     "user": {
      "displayName": "陳煒凱",
      "photoUrl": "",
      "userId": "11007344159734371644"
     },
     "user_tz": -480
    },
    "id": "9Y9euj_1g-v5",
    "outputId": "7e423a17-f97f-431f-8960-9d4d6e0d53a3"
   },
   "outputs": [
    {
     "data": {
      "image/png": "[encoded data removed]",
      "text/plain": [
       "<Figure size 864x1008 with 25 Axes>"
      ]
     },
     "metadata": {},
     "output_type": "display_data"
    }
   ],
   "source": [
    "show_images_labels_predictions(test_feature, test_label, prediction, 125, 25)"
   ]
  },
  {
   "cell_type": "code",
   "execution_count": 19,
   "metadata": {
    "colab": {
     "base_uri": "https://localhost:8080/"
    },
    "executionInfo": {
     "elapsed": 18817,
     "status": "ok",
     "timestamp": 1607513030123,
     "user": {
      "displayName": "陳煒凱",
      "photoUrl": "",
      "userId": "11007344159734371644"
     },
     "user_tz": -480
    },
    "id": "bYVvyz8khQBY",
    "outputId": "ff1e0f3d-a8b4-4314-980b-3b2b994ba169"
   },
   "outputs": [
    {
     "name": "stdout",
     "output_type": "stream",
     "text": [
      "\t[Info] Display Confusion Matrix:\n",
      "predict    0     1     2    3    4    5    6     7    8    9\n",
      "label                                                       \n",
      "0        972     0     2    1    1    1    0     1    2    0\n",
      "1          0  1117     4    1    0    1    4     1    7    0\n",
      "2          5     1  1012    1    1    0    1     5    6    0\n",
      "3          0     0     6  992    0    3    0     3    4    2\n",
      "4          2     0     6    0  966    0    2     1    1    4\n",
      "5          2     0     0   10    1  870    3     1    4    1\n",
      "6          6     2     3    1    4    8  931     0    3    0\n",
      "7          0     3     8    4    0    1    0  1002    3    7\n",
      "8          2     0     3   11    3    4    1     3  946    1\n",
      "9          4     5     1   11    9    4    0     5    2  968\n",
      "\n"
     ]
    }
   ],
   "source": [
    "import pandas as pd\n",
    "print('\\t[Info] Display Confusion Matrix:')\n",
    "print(\"%s\\n\" % pd.crosstab(test_label, prediction, rownames=['label'], colnames=['predict']))"
   ]
  },
  {
   "cell_type": "code",
   "execution_count": 20,
   "metadata": {
    "colab": {
     "base_uri": "https://localhost:8080/"
    },
    "executionInfo": {
     "elapsed": 17046,
     "status": "ok",
     "timestamp": 1607513578905,
     "user": {
      "displayName": "陳煒凱",
      "photoUrl": "",
      "userId": "11007344159734371644"
     },
     "user_tz": -480
    },
    "id": "iwjVygu_j8qn",
    "outputId": "e0189438-7f47-4af8-f072-67aade784fef"
   },
   "outputs": [],
   "source": [
    "#from google.colab import drive\n",
    "#drive.mount('/content/gdrive')"
   ]
  },
  {
   "cell_type": "code",
   "execution_count": 21,
   "metadata": {
    "executionInfo": {
     "elapsed": 42931,
     "status": "ok",
     "timestamp": 1607513457560,
     "user": {
      "displayName": "陳煒凱",
      "photoUrl": "",
      "userId": "11007344159734371644"
     },
     "user_tz": -480
    },
    "id": "9Vf2e6UMQYdF"
   },
   "outputs": [],
   "source": [
    "# jupyter notebook\n",
    "model.save('./Mnist_mlp_model.h5')"
   ]
  },
  {
   "cell_type": "code",
   "execution_count": 22,
   "metadata": {
    "executionInfo": {
     "elapsed": 1431,
     "status": "ok",
     "timestamp": 1607513586166,
     "user": {
      "displayName": "陳煒凱",
      "photoUrl": "",
      "userId": "11007344159734371644"
     },
     "user_tz": -480
    },
    "id": "RoQ4Z-5CRBu2"
   },
   "outputs": [],
   "source": [
    "# google colab\n",
    "#model.save('/content/gdrive/My Drive/AIoT_NTUST/Mnist_mlp_model.h5')"
   ]
  },
  {
   "cell_type": "code",
   "execution_count": null,
   "metadata": {
    "id": "b3F6N0z8RJ4G"
   },
   "outputs": [],
   "source": []
  }
 ],
 "metadata": {
  "colab": {
   "collapsed_sections": [],
   "name": "mnist_mlp.ipynb",
   "provenance": []
  },
  "kernelspec": {
   "display_name": "Python 3",
   "language": "python",
   "name": "python3"
  },
  "language_info": {
   "codemirror_mode": {
    "name": "ipython",
    "version": 3
   },
   "file_extension": ".py",
   "mimetype": "text/x-python",
   "name": "python",
   "nbconvert_exporter": "python",
   "pygments_lexer": "ipython3",
   "version": "3.8.3"
  }
 },
 "nbformat": 4,
 "nbformat_minor": 1
}
